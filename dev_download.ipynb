{
 "cells": [
  {
   "cell_type": "code",
   "execution_count": 1,
   "metadata": {},
   "outputs": [],
   "source": [
    "%matplotlib inline\n",
    "%reload_ext autoreload\n",
    "%autoreload 2"
   ]
  },
  {
   "cell_type": "code",
   "execution_count": 24,
   "metadata": {},
   "outputs": [],
   "source": [
    "# import os,sys\n",
    "from pathlib import Path\n",
    "from math import ceil\n",
    "# from time import sleep\n",
    "# from urllib.request import urlretrieve\n",
    "import requests\n",
    "from fastprogress import master_bar, progress_bar"
   ]
  },
  {
   "cell_type": "code",
   "execution_count": 58,
   "metadata": {},
   "outputs": [],
   "source": [
    "path = Path('data/')\n",
    "path.mkdir(exist_ok=True)"
   ]
  },
  {
   "cell_type": "code",
   "execution_count": 61,
   "metadata": {},
   "outputs": [],
   "source": [
    "wikidump_url = 'https://dumps.wikimedia.org/cewiki/20181101/cewiki-20181101-pages-meta-history.xml.bz2'\n",
    "# wikidump_url = 'https://dumps.wikimedia.org/cewiki/20181101/cewiki-20181101-pages-articles-multistream-index.txt.bz2'\n",
    "wikidump_fn = wikidump_url.split('/')[-1]"
   ]
  },
  {
   "cell_type": "code",
   "execution_count": 62,
   "metadata": {},
   "outputs": [
    {
     "data": {
      "text/html": [
       "\n",
       "    <div>\n",
       "        <style>\n",
       "        \t/* Turns off some styling */\n",
       "        \tprogress {\n",
       "\n",
       "            \t/* gets rid of default border in Firefox and Opera. */\n",
       "            \tborder: none;\n",
       "\n",
       "            \t/* Needs to be in here for Safari polyfill so background images work as expected. */\n",
       "            \tbackground-size: auto;\n",
       "            }\n",
       "\n",
       "            .progress-bar-interrupted, .progress-bar-interrupted::-webkit-progress-bar {\n",
       "                background: #F44336;\n",
       "            }\n",
       "        </style>\n",
       "      <progress value='30' class='' max='30', style='width:300px; height:20px; vertical-align: middle;'></progress>\n",
       "      100.00% [30/30 00:00<00:00]\n",
       "    </div>\n",
       "    "
      ],
      "text/plain": [
       "<IPython.core.display.HTML object>"
      ]
     },
     "metadata": {},
     "output_type": "display_data"
    }
   ],
   "source": [
    "req = requests.get(wikidump_url, stream=True)\n",
    "\n",
    "chunk_size=1024*50\n",
    "try: size = req.headers['content-length']\n",
    "except KeyError:\n",
    "    size = int(ceil(len(req.content)/chunk_size))\n",
    "    \n",
    "n = int(ceil(int(size)/chunk_size))\n",
    "mb = master_bar(range(1))\n",
    "pb = progress_bar(range(n))\n",
    "\n",
    "with open(path/wikidump_fn, 'wb') as f:\n",
    "    for i,chunk in zip(pb,req.iter_content(chunk_size=chunk_size)):\n",
    "        if chunk: # filter out keep-ailve new chunks\n",
    "            f.write(chunk)\n",
    "req.close()"
   ]
  },
  {
   "cell_type": "code",
   "execution_count": null,
   "metadata": {},
   "outputs": [],
   "source": []
  }
 ],
 "metadata": {
  "kernelspec": {
   "display_name": "Python 3 (FastAI)",
   "language": "python",
   "name": "fastai"
  },
  "language_info": {
   "codemirror_mode": {
    "name": "ipython",
    "version": 3
   },
   "file_extension": ".py",
   "mimetype": "text/x-python",
   "name": "python",
   "nbconvert_exporter": "python",
   "pygments_lexer": "ipython3",
   "version": "3.7.0"
  }
 },
 "nbformat": 4,
 "nbformat_minor": 2
}
